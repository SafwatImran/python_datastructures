{
 "metadata": {
  "language_info": {
   "codemirror_mode": {
    "name": "ipython",
    "version": 3
   },
   "file_extension": ".py",
   "mimetype": "text/x-python",
   "name": "python",
   "nbconvert_exporter": "python",
   "pygments_lexer": "ipython3",
   "version": "3.8.2-final"
  },
  "orig_nbformat": 2,
  "kernelspec": {
   "name": "python3",
   "display_name": "Python 3.8.2 64-bit",
   "metadata": {
    "interpreter": {
     "hash": "1baa965d5efe3ac65b79dfc60c0d706280b1da80fedb7760faf2759126c4f253"
    }
   }
  }
 },
 "nbformat": 4,
 "nbformat_minor": 2,
 "cells": [
  {
   "cell_type": "code",
   "execution_count": 1,
   "metadata": {},
   "outputs": [
    {
     "output_type": "stream",
     "name": "stdout",
     "text": [
      "omp\nopt\nputer\ncompu\nr\nter\ncomput\n"
     ]
    }
   ],
   "source": [
    "# slicing strings - x = [0:4] -> start is inclusive, end is exclusive\n",
    "\n",
    "x = 'computer'\n",
    "print(x[1:4])\n",
    "print(x[1:6:2])\n",
    "print(x[3:])\n",
    "print(x[:5])\n",
    "print(x[-1])\n",
    "print(x[-3:])\n",
    "print(x[:-2])\n",
    "\n"
   ]
  },
  {
   "cell_type": "code",
   "execution_count": 9,
   "metadata": {},
   "outputs": [
    {
     "output_type": "error",
     "ename": "TypeError",
     "evalue": "can only concatenate tuple (not \"int\") to tuple",
     "traceback": [
      "\u001b[1;31m---------------------------------------------------------------------------\u001b[0m",
      "\u001b[1;31mTypeError\u001b[0m                                 Traceback (most recent call last)",
      "\u001b[1;32m<ipython-input-9-955888fe6a5a>\u001b[0m in \u001b[0;36m<module>\u001b[1;34m\u001b[0m\n\u001b[0;32m      5\u001b[0m \u001b[0my\u001b[0m \u001b[1;33m=\u001b[0m \u001b[1;33m[\u001b[0m\u001b[1;36m8\u001b[0m\u001b[1;33m,\u001b[0m\u001b[1;36m5\u001b[0m\u001b[1;33m]\u001b[0m\u001b[1;33m\u001b[0m\u001b[1;33m\u001b[0m\u001b[0m\n\u001b[0;32m      6\u001b[0m \u001b[1;31m#tuple\u001b[0m\u001b[1;33m\u001b[0m\u001b[1;33m\u001b[0m\u001b[1;33m\u001b[0m\u001b[0m\n\u001b[1;32m----> 7\u001b[1;33m \u001b[0mz\u001b[0m \u001b[1;33m=\u001b[0m \u001b[1;33m(\u001b[0m\u001b[1;36m2\u001b[0m\u001b[1;33m,\u001b[0m\u001b[1;36m4\u001b[0m\u001b[1;33m)\u001b[0m \u001b[1;33m+\u001b[0m \u001b[1;33m(\u001b[0m\u001b[1;36m3\u001b[0m\u001b[1;33m)\u001b[0m\u001b[1;33m\u001b[0m\u001b[1;33m\u001b[0m\u001b[0m\n\u001b[0m",
      "\u001b[1;31mTypeError\u001b[0m: can only concatenate tuple (not \"int\") to tuple"
     ]
    }
   ],
   "source": [
    "#Concatenation\n",
    "#string\n",
    "x = 'horse' + 'shoe'\n",
    "#list\n",
    "y = [8,5]\n",
    "#tuple\n",
    "z = (2,4) + (3)"
   ]
  },
  {
   "cell_type": "code",
   "execution_count": 6,
   "metadata": {},
   "outputs": [
    {
     "output_type": "stream",
     "name": "stdout",
     "text": [
      "horseshoe\n[8, 5, 4]\n('2', '4', '3')\n"
     ]
    }
   ],
   "source": [
    "#Concatenation\n",
    "#string\n",
    "x = 'horse' + 'shoe'\n",
    "print (x)\n",
    "#list\n",
    "y = [8,5] + [4]\n",
    "print(y)\n",
    "#tuple\n",
    "z = ('2','4') + ('3',) #tuple concat only works if you add a comma at the end       \n",
    "print (z)"
   ]
  },
  {
   "source": [
    "x = 'bug' * 3\n",
    "print(x)\n",
    "y = [1,2] * 2\n",
    "print(y)\n",
    "z = (2,3) * 4\n",
    "print(z)"
   ],
   "cell_type": "code",
   "metadata": {},
   "execution_count": 59,
   "outputs": [
    {
     "output_type": "stream",
     "name": "stdout",
     "text": [
      "bugbugbug\n[1, 2, 1, 2]\n(2, 3, 2, 3, 2, 3, 2, 3)\n"
     ]
    }
   ]
  },
  {
   "cell_type": "code",
   "execution_count": 60,
   "metadata": {},
   "outputs": [
    {
     "output_type": "stream",
     "name": "stdout",
     "text": [
      "True\nFalse\nTrue\n"
     ]
    }
   ],
   "source": [
    "print('u' in x)\n",
    "print(2 not in y)\n",
    "print(3 in z)"
   ]
  },
  {
   "cell_type": "code",
   "execution_count": 22,
   "metadata": {},
   "outputs": [
    {
     "output_type": "stream",
     "name": "stdout",
     "text": [
      "2 3 4 \n0 6\n1 7\n2 8\n"
     ]
    }
   ],
   "source": [
    "#item \n",
    "x = [2,3,4]\n",
    "for item in x: print(item, end=' ') #specify end to override newline\n",
    "print()\n",
    "y = [6,7,8]\n",
    "for index,item in enumerate(y):\n",
    "    print(index, item)\n"
   ]
  },
  {
   "cell_type": "code",
   "execution_count": 24,
   "metadata": {},
   "outputs": [
    {
     "output_type": "stream",
     "name": "stdout",
     "text": [
      "b\n4\n"
     ]
    }
   ],
   "source": [
    "#string\n",
    "x = ('bug')\n",
    "print(min(x))\n",
    "z = (2,3,4)\n",
    "print(max(z))"
   ]
  },
  {
   "cell_type": "code",
   "execution_count": 25,
   "metadata": {},
   "outputs": [
    {
     "output_type": "stream",
     "name": "stdout",
     "text": [
      "14\n"
     ]
    }
   ],
   "source": [
    "#string throws error with sum(list)\n",
    "#x = [5,6,'bug'] > error\n",
    "y = [2,3,4,5]\n",
    "print(sum(y))"
   ]
  },
  {
   "cell_type": "code",
   "execution_count": 27,
   "metadata": {},
   "outputs": [
    {
     "output_type": "stream",
     "name": "stdout",
     "text": [
      "['b', 'g', 'u']\n[6, 44, 73]\n"
     ]
    }
   ],
   "source": [
    "#string\n",
    "x = 'bug'\n",
    "print(sorted(x))\n",
    "z = (44,6,73)\n",
    "print(sorted(z))\n",
    "#sorted(anything) always returns a NEW list, does not mutate the variable"
   ]
  },
  {
   "cell_type": "code",
   "execution_count": 29,
   "metadata": {},
   "outputs": [
    {
     "output_type": "stream",
     "name": "stdout",
     "text": [
      "['Janet', 'Kevin', 'Niklas', 'Craig']\n"
     ]
    }
   ],
   "source": [
    "z = ('Kevin', 'Niklas', 'Janet','Craig')\n",
    "print(sorted(z, key=lambda k:k[1])) #lambda function takes k as an argument for sorted with k being the second letter of each name"
   ]
  },
  {
   "cell_type": "code",
   "execution_count": 31,
   "metadata": {},
   "outputs": [
    {
     "output_type": "stream",
     "name": "stdout",
     "text": [
      "2\n3\n"
     ]
    }
   ],
   "source": [
    "#count function -- counts number of occurences of something\n",
    "x = 'hippo'\n",
    "print(x.count('p'))\n",
    "z = (1,3,4,1,2,2,2)\n",
    "print(z.count(2))"
   ]
  },
  {
   "cell_type": "code",
   "execution_count": 32,
   "metadata": {},
   "outputs": [
    {
     "output_type": "stream",
     "name": "stdout",
     "text": [
      "2\n1\n"
     ]
    }
   ],
   "source": [
    "#index - returns the index of first occurence of an item\n",
    "x = 'hippo'\n",
    "y = [1,2,2,2,3]\n",
    "print(x.index('p'))\n",
    "print(y.index(2))"
   ]
  },
  {
   "cell_type": "code",
   "execution_count": 33,
   "metadata": {},
   "outputs": [
    {
     "output_type": "stream",
     "name": "stdout",
     "text": [
      "Kevin Niklas Janet Craig\n"
     ]
    }
   ],
   "source": [
    "# unpacking - unpack n items into n variables\n",
    "z = ('Kevin', 'Niklas', 'Janet','Craig')\n",
    "a,b,c,d = z\n",
    "print (a,b,c,d)"
   ]
  },
  {
   "cell_type": "code",
   "execution_count": 37,
   "metadata": {},
   "outputs": [
    {
     "output_type": "stream",
     "name": "stdout",
     "text": [
      "[10, 20]\n[0, 1, 2, 3, 4, 5, 6, 7]\n[16, 25, 36, 49, 64, 81]\n"
     ]
    }
   ],
   "source": [
    "#lists\n",
    "x = list()\n",
    "y = ['a', 25, 'dog', 8.3]\n",
    "tuple1 = (10,20)\n",
    "z = list(tuple1)\n",
    "print(z)\n",
    "# list comprehension \n",
    "a = [m for m in range (8)]\n",
    "print(a)\n",
    "b = [i**2 for i in range(10) if i>=4]\n",
    "print(b)"
   ]
  },
  {
   "cell_type": "code",
   "execution_count": 38,
   "metadata": {},
   "outputs": [
    {
     "output_type": "stream",
     "name": "stdout",
     "text": [
      "[25, 'dog', 8.3]\n"
     ]
    }
   ],
   "source": [
    "y = ['a', 25, 'dog', 8.3]\n",
    "del (y[0])\n",
    "print(y)"
   ]
  },
  {
   "cell_type": "code",
   "execution_count": 39,
   "metadata": {},
   "outputs": [
    {
     "output_type": "stream",
     "name": "stdout",
     "text": [
      "[1, 2, 3, 4, 4, 5, 6, 7]\n"
     ]
    }
   ],
   "source": [
    "#extend\n",
    "x = [1,2,3,4]\n",
    "y = [4,5,6,7]\n",
    "x.extend(y)\n",
    "print(x)"
   ]
  },
  {
   "cell_type": "code",
   "execution_count": 44,
   "metadata": {},
   "outputs": [
    {
     "output_type": "stream",
     "name": "stdout",
     "text": [
      "[1, 7, 2, 3, 4]\n[['a'], 1, 7, 2, 3, 4]\n[['a'], 1, 7, 2, 3]\n[['a'], 1, 2, 3]\n"
     ]
    }
   ],
   "source": [
    "#insert, pop and remove\n",
    "x = [1,2,3,4]\n",
    "x.insert(1,7)\n",
    "print(x)\n",
    "a = ['a']\n",
    "x.insert(0,a)\n",
    "print(x)\n",
    "x.pop()\n",
    "print(x)\n",
    "x.remove(7)\n",
    "print(x)"
   ]
  },
  {
   "cell_type": "code",
   "execution_count": 53,
   "metadata": {},
   "outputs": [
    {
     "output_type": "stream",
     "name": "stdout",
     "text": [
      "[4, 3, 2, 7, 1, ['a']]\n[1, 3, 3, 6]\n[6, 3, 3, 1]\n"
     ]
    }
   ],
   "source": [
    "#reverse - inplace reverse\n",
    "x=[['a'], 1, 7, 2, 3, 4]\n",
    "x.reverse()\n",
    "print(x)\n",
    "#sort - inplace sort\n",
    "x = [3,1,3,6]\n",
    "x.sort()\n",
    "print(x)\n",
    "x.sort(reverse=True)\n",
    "print(x)"
   ]
  },
  {
   "cell_type": "code",
   "execution_count": 58,
   "metadata": {},
   "outputs": [
    {
     "output_type": "stream",
     "name": "stdout",
     "text": [
      "([1, 2], 3)\n([1, 2, 4], 3)\n([1, 2, 4], 3, 5)\n"
     ]
    }
   ],
   "source": [
    "# tuples - faster than lists and immutable but member objects mutable\n",
    "x = (1,2,3)\n",
    "y = ([1,2],3)\n",
    "print(y)\n",
    "y[0].append(4)\n",
    "print(y)\n",
    "y+=5, #== , tells  python it's a tuple\n",
    "print(y)"
   ]
  },
  {
   "cell_type": "code",
   "execution_count": 70,
   "metadata": {},
   "outputs": [
    {
     "output_type": "stream",
     "name": "stdout",
     "text": [
      "{3, 5}\n{8, 3, 5}\n{3, 5}\nTrue\nset()\n"
     ]
    }
   ],
   "source": [
    "#Sets\n",
    "#stores non-duplicate items and is faster than lists\n",
    "x = {3,5,3,5}\n",
    "print(x)\n",
    "x.add(8)\n",
    "print(x)\n",
    "x.pop()\n",
    "print(x)\n",
    "print(5 in x)\n",
    "x.clear()\n",
    "print(x)"
   ]
  },
  {
   "cell_type": "code",
   "execution_count": 75,
   "metadata": {},
   "outputs": [
    {
     "output_type": "stream",
     "name": "stdout",
     "text": [
      "{3}\n{1, 2, 3, 4, 5}\n{1, 2, 4, 5}\n{1, 2}\nFalse\nFalse\n"
     ]
    }
   ],
   "source": [
    "s1 = {1,2,3}\n",
    "s2 = {3,4,5}\n",
    "print(s1 & s2) # AND\n",
    "print( s1 | s2) # OR \n",
    "print(s1 ^ s2)  #XOR\n",
    "print(s1 - s2) # in set1 but not set2\n",
    "print (s1<=s2) # subset - set 2 contains set 1\n",
    "print (s1 >=s2) #superset - set1 contains set2"
   ]
  },
  {
   "cell_type": "code",
   "execution_count": 89,
   "metadata": {},
   "outputs": [
    {
     "output_type": "stream",
     "name": "stdout",
     "text": [
      "True\n{'a': 1, 'b': 2, 'c': 3} {'a': 1, 'b': 2, 'c': 3} {'a': 1, 'b': 2, 'c': 3}\nTrue\nFalse\na 1\nb 2\nc 3\n====\na 1\nb 2\nc 3\n"
     ]
    }
   ],
   "source": [
    "#Dictionaries\n",
    "x = {'a':1, 'b':2, 'c':3}  #OR\n",
    "y = dict(a=1, b=2, c=3)\n",
    "z = dict([('a',1),('b',2),('c',3)])\n",
    "print (x==y==z)\n",
    "print(x,y,z)\n",
    "print('a' in y)\n",
    "print('zoo' in x)\n",
    "\n",
    "for key in y:\n",
    "    print(key,y[key])\n",
    "print('====')\n",
    "for k,v in y.items():\n",
    "    print (k,v)"
   ]
  },
  {
   "cell_type": "code",
   "execution_count": 101,
   "metadata": {},
   "outputs": [
    {
     "output_type": "stream",
     "name": "stdout",
     "text": [
      "under_10: [0, 1, 2, 3, 4, 5, 6, 7, 8, 9]\nsquares :[0, 1, 4, 9, 16, 25, 36, 49, 64, 81]\nodds: [1, 3, 5, 7, 9]\nnums :2 0 4 3\nindex =2\n['A', 'B', 'C', 'D', 'E', 'F']\n['C', 'D', 'F', 'B', 'A', 'E']\n['D', 'F', 'B', 'A', 'E']\n[1, 2, 3, 4]\n"
     ]
    }
   ],
   "source": [
    "# List Comprehensions\n",
    "import random\n",
    "\n",
    "under_10 = [x for x in range (10)]\n",
    "print ('under_10: ' + str(under_10))\n",
    "\n",
    "squares = [i**2 for i in range(10)]\n",
    "print('squares :' + str(squares))\n",
    "\n",
    "odds = [j for j in range(10) if j%2!=0]\n",
    "print('odds: ' + str(odds))\n",
    "\n",
    "s = 'I love 2 go t0 the store 4 times a w3ek'\n",
    "\n",
    "nums = [x for x in s if x.isnumeric()]\n",
    "print ( 'nums :' + ' '.join(nums))\n",
    "\n",
    "names = ['Cosmo', 'Wanda', 'Timmy']\n",
    "idx = [k for k,v in enumerate(names) if v=='Timmy']\n",
    "print('index =' + str(idx[0])) # this only returns 2 as the index value for timmy, idx has only 1 value =2 \n",
    "\n",
    "letters = [x for x in 'ABCDEF']\n",
    "print(letters)\n",
    "random.shuffle(letters)\n",
    "print(letters)\n",
    "letrs = [a for a in letters if a!='C']\n",
    "print(letrs)\n",
    "\n",
    "#nested loop for 2D list\n",
    "\n",
    "a = [[1,2],[3,4]]\n",
    "new_list = [x for b in a for x in b]\n",
    "print(new_list)"
   ]
  },
  {
   "cell_type": "code",
   "execution_count": 104,
   "metadata": {},
   "outputs": [
    {
     "output_type": "stream",
     "name": "stdout",
     "text": [
      "deque([5, 10])\n5\ndeque([10])\n"
     ]
    }
   ],
   "source": [
    "#stacks are basically lists\n",
    "#queue's:\n",
    "from collections import deque\n",
    "my_queue = deque()\n",
    "my_queue.append(5)\n",
    "my_queue.append(10)\n",
    "print(my_queue)\n",
    "print(my_queue.popleft())\n",
    "print(my_queue)"
   ]
  },
  {
   "cell_type": "code",
   "execution_count": null,
   "metadata": {},
   "outputs": [],
   "source": []
  }
 ]
}